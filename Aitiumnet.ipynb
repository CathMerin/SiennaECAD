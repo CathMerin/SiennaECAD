{
 "cells": [
  {
   "cell_type": "code",
   "execution_count": null,
   "metadata": {},
   "outputs": [],
   "source": [
    "# This is to convert txt files containing * to standard format"
   ]
  },
  {
   "cell_type": "code",
   "execution_count": null,
   "metadata": {},
   "outputs": [],
   "source": [
    "import pandas as pd\n",
    "import csv"
   ]
  },
  {
   "cell_type": "code",
   "execution_count": null,
   "metadata": {},
   "outputs": [],
   "source": [
    "def find_first_occurence_of_add_ter(original_data):\n",
    "    add_ter_index = -1\n",
    "    for i in range(0, len(original_data)):\n",
    "        if \"*\" in original_data[i][0]:\n",
    "            add_ter_index = i\n",
    "            break\n",
    "    \n",
    "    return add_ter_index"
   ]
  },
  {
   "cell_type": "code",
   "execution_count": null,
   "metadata": {},
   "outputs": [],
   "source": [
    "def get_mappings(focused_data):\n",
    "    final_data = list()\n",
    "\n",
    "    column_one = \"\"\n",
    "    column_two = \"\"\n",
    "    for i in focused_data:\n",
    "        # Updating column one if the row is *\n",
    "        if \"*\" in i[0]:\n",
    "            column_one = i[0] + \" \" + i[1]\n",
    "        else:\n",
    "            for j in i:\n",
    "                column_two = j\n",
    "                temp_dict = {\n",
    "                    \"column_one\": column_one,\n",
    "                    \"column_two\": column_two\n",
    "                }\n",
    "                final_data.append(temp_dict)\n",
    "    return final_data\n"
   ]
  },
  {
   "cell_type": "code",
   "execution_count": null,
   "metadata": {},
   "outputs": [],
   "source": [
    "def dump_final_data_to_file(final_data, filename):\n",
    "    final_filename = filename\n",
    "    \n",
    "    with open(filename, mode='w', newline='') as csv_file:\n",
    "        fieldnames = ['column_one', 'column_two']\n",
    "        writer = csv.DictWriter(csv_file, fieldnames=fieldnames)\n",
    "\n",
    "        writer.writeheader()\n",
    "        writer.writerows(final_data)\n",
    "    \n",
    "    print(\"final_data written to \", final_filename)"
   ]
  },
  {
   "cell_type": "code",
   "execution_count": null,
   "metadata": {},
   "outputs": [],
   "source": [
    "def process_data(filename, output_csv_filename):\n",
    "    # Load the file to process\n",
    "    original_data = list()\n",
    "    # delim = \"  \"\n",
    "    with open(filename, \"r\") as file:\n",
    "        for line in file.readlines():\n",
    "            temp_list = line.split()\n",
    "            if temp_list != []:\n",
    "                original_data.append(line.split())\n",
    "              \n",
    "    # Process the file and get the mappings\n",
    "    first_occurence_of_add_ter = find_first_occurence_of_add_ter(original_data)\n",
    "    if first_occurence_of_add_ter != -1:\n",
    "        focused_data = original_data[first_occurence_of_add_ter:-1]\n",
    "        final_data = get_mappings(focused_data)\n",
    "        dump_final_data_to_file(final_data, output_csv_filename)\n",
    "    else:\n",
    "        print(\"Cannot find .ADD_TER in the data file, exiting...\")"
   ]
  },
  {
   "cell_type": "code",
   "execution_count": null,
   "metadata": {},
   "outputs": [],
   "source": [
    "while True:\n",
    "    option = int(input(\"Enter 1 to convert a mentorpads or 0 to quit\"))\n",
    "\n",
    "    if option == 0:\n",
    "        break\n",
    "\n",
    "    fileName1 = input(\"Enter the name of the file to check\\n\")\n",
    "\n",
    "    filename_list = [fileName1]\n",
    "\n",
    "\n",
    "    for index, fileName in enumerate(filename_list):\n",
    "        file_name = \"MentorPads-f\"+str(index+1)+\".csv\"\n",
    "        position = fileName.find('.')\n",
    "        netlist_format = fileName[position+1:]\n",
    "\n",
    "        if netlist_format == 'txt':\n",
    "            process_data(fileName, file_name)"
   ]
  }
 ],
 "metadata": {
  "interpreter": {
   "hash": "9650cb4e16cdd4a8e8e2d128bf38d875813998db22a3c986335f89e0cb4d7bb2"
  },
  "kernelspec": {
   "display_name": "Python 3.8.3 64-bit (system)",
   "language": "python",
   "name": "python3"
  },
  "language_info": {
   "codemirror_mode": {
    "name": "ipython",
    "version": 3
   },
   "file_extension": ".py",
   "mimetype": "text/x-python",
   "name": "python",
   "nbconvert_exporter": "python",
   "pygments_lexer": "ipython3",
   "version": "3.8.3"
  }
 },
 "nbformat": 4,
 "nbformat_minor": 2
}
