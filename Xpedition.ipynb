{
 "cells": [
  {
   "cell_type": "code",
   "execution_count": null,
   "metadata": {},
   "outputs": [],
   "source": [
    "import pandas as pd\n",
    "import xlrd\n",
    "final_data = list()\n",
    "column_one = \"\"\n",
    "column_two = \"\"\n",
    "wb = xlrd.open_workbook(\"Xpeditionxls.xls\")\n",
    "sheet = wb.sheet_by_index(0)\n",
    "for i in range(3, sheet.nrows):\n",
    "    if (sheet.cell_value(i, 0) != \"\"):\n",
    "        column_one = sheet.cell_value(i, 0)\n",
    "        continue\n",
    "    elif (sheet.cell_value(i, 0)== \"\" and sheet.cell_value(i, 3)== \"\"):\n",
    "        continue\n",
    "    elif (sheet.cell_value(i, 0)== \"\"):\n",
    "        column_two = sheet.cell_value(i, 3)\n",
    "        temp_dict = {\n",
    "            \"column_one\": column_one,\n",
    "            \"column_two\": column_two\n",
    "        }\n",
    "        final_data.append(temp_dict)\n",
    "print(final_data)\n"
   ]
  }
 ],
 "metadata": {
  "interpreter": {
   "hash": "9650cb4e16cdd4a8e8e2d128bf38d875813998db22a3c986335f89e0cb4d7bb2"
  },
  "kernelspec": {
   "display_name": "Python 3.8.3 64-bit (system)",
   "language": "python",
   "name": "python3"
  },
  "language_info": {
   "codemirror_mode": {
    "name": "ipython",
    "version": 3
   },
   "file_extension": ".py",
   "mimetype": "text/x-python",
   "name": "python",
   "nbconvert_exporter": "python",
   "pygments_lexer": "ipython3",
   "version": "3.8.3"
  }
 },
 "nbformat": 4,
 "nbformat_minor": 2
}
