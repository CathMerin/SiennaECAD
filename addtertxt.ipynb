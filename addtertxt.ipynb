{
 "cells": [
  {
   "cell_type": "code",
   "execution_count": null,
   "metadata": {},
   "outputs": [],
   "source": [
    "# This is to convert txt files containing .ADD_TER to standard format"
   ]
  },
  {
   "cell_type": "code",
   "execution_count": null,
   "metadata": {},
   "outputs": [],
   "source": [
    "import pandas as pd\n",
    "import csv"
   ]
  },
  {
   "cell_type": "code",
   "execution_count": null,
   "metadata": {},
   "outputs": [],
   "source": [
    "def find_first_occurence_of_add_ter(original_data):\n",
    "    add_ter_index = -1\n",
    "    for i in range(0, len(original_data)):\n",
    "        if \".ADD_TER\" in original_data[i]:\n",
    "            add_ter_index = i\n",
    "            break\n",
    "\n",
    "    return add_ter_index\n"
   ]
  },
  {
   "cell_type": "code",
   "execution_count": null,
   "metadata": {},
   "outputs": [],
   "source": [
    "def get_mappings(focused_data):\n",
    "    final_data = list()\n",
    "\n",
    "    column_one = \"\"\n",
    "    column_two = \"\"\n",
    "    for i in focused_data:\n",
    "        # Updating column one if the row is .ADD_TER\n",
    "        if \".ADD_TER\" in i:\n",
    "            column_one = i[3]\n",
    "            column_two = i[1] + i[2]\n",
    "\n",
    "        # Updating the column two details\n",
    "        elif \".TER\" in i:\n",
    "            column_two = i[1] + i[2]\n",
    "        else:\n",
    "            column_two = i[0] + i[1]\n",
    "            \n",
    "        temp_dict = {\n",
    "            \"column_one\": column_one,\n",
    "            \"column_two\": column_two\n",
    "        }\n",
    "        final_data.append(temp_dict)\n",
    "\n",
    "    return final_data\n"
   ]
  },
  {
   "cell_type": "code",
   "execution_count": null,
   "metadata": {},
   "outputs": [],
   "source": [
    "def dump_final_data_to_file(final_data, filename):\n",
    "    print(final_data)\n",
    "    final_filename = filename\n",
    "    \n",
    "    with open(filename, mode='w', newline='') as csv_file:\n",
    "        fieldnames = ['column_one', 'column_two']\n",
    "        writer = csv.DictWriter(csv_file, fieldnames=fieldnames)\n",
    "\n",
    "        writer.writeheader()\n",
    "        writer.writerows(final_data)\n",
    "    \n",
    "    print(\"final_data written to \", final_filename)"
   ]
  },
  {
   "cell_type": "code",
   "execution_count": null,
   "metadata": {},
   "outputs": [],
   "source": [
    "def process_data(filename, output_csv_filename):\n",
    "    # Load the file to process\n",
    "    original_data = list()\n",
    "    # delim = \"  \"\n",
    "    with open(filename, \"r\") as file:\n",
    "        for line in file.readlines():\n",
    "            temp_list = line.split()\n",
    "            if temp_list != []:\n",
    "                original_data.append(line.split())\n",
    "              \n",
    "    # Process the file and get the mappings\n",
    "    first_occurence_of_add_ter = find_first_occurence_of_add_ter(original_data)\n",
    "    if first_occurence_of_add_ter != -1:\n",
    "        focused_data = original_data[first_occurence_of_add_ter:-1]\n",
    "        final_data = get_mappings(focused_data)\n",
    "        dump_final_data_to_file(final_data, output_csv_filename)\n",
    "    else:\n",
    "        print(\"Cannot find .ADD_TER in the data file, exiting...\")"
   ]
  },
  {
   "cell_type": "code",
   "execution_count": null,
   "metadata": {},
   "outputs": [],
   "source": [
    "def remove_quotations(file):\n",
    "    df=pd.read_csv(file).replace('\"', ' ')\n",
    "    #df=df.applymap(lambda x: x.replace('\"', ' '))\n",
    "    df=df[['column_one','column_two']]\n",
    "    return df"
   ]
  },
  {
   "cell_type": "code",
   "execution_count": null,
   "metadata": {},
   "outputs": [],
   "source": [
    "while True:\n",
    "    option = int(input(\"Enter 1 to convert a NetList or 0 to quit\"))\n",
    "\n",
    "    if option == 0:\n",
    "        break\n",
    "\n",
    "    fileName1 = input(\"Enter the name of the first NetList file to check\\n\")\n",
    "    # fileName2 = input(\"Enter the name of the second NetList file to check\\n\")\n",
    "    # destinationFile1 = input(\"Enter the name of the csv file to store the converted data into: \")\n",
    "    # destinationFile2 = input(\"Enter the name of the csv file to store the converted data into: \")\n",
    "\n",
    "    filename_list = [fileName1]\n",
    "    # filename_list = [fileName1, fileName2]\n",
    "\n",
    "    for index, fileName in enumerate(filename_list):\n",
    "        file_name = \"DX-Netlist-f\"+str(index+1)+\".csv\"\n",
    "        position = fileName.find('.')\n",
    "        netlist_format = fileName[position+1:]\n",
    "\n",
    "        if netlist_format == 'txt':\n",
    "            process_data(fileName, file_name)\n",
    "\n",
    "            # df = pd.read_csv(file_name, skipinitialspace=True).replace('\"', '', regex=True)\n",
    "          #  df=df.iloc[: ,0:]\n",
    "        # df.reset_index(drop=True,inplace=True)\n",
    "           # if '\"' in df['column_one']:\n",
    "\n",
    "            # df = remove_quotations(file_name)\n",
    "            # df.to_csv(file_name, index=False)\n"
   ]
  }
 ],
 "metadata": {
  "interpreter": {
   "hash": "9650cb4e16cdd4a8e8e2d128bf38d875813998db22a3c986335f89e0cb4d7bb2"
  },
  "kernelspec": {
   "display_name": "Python 3.8.3 64-bit (system)",
   "language": "python",
   "name": "python3"
  },
  "language_info": {
   "codemirror_mode": {
    "name": "ipython",
    "version": 3
   },
   "file_extension": ".py",
   "mimetype": "text/x-python",
   "name": "python",
   "nbconvert_exporter": "python",
   "pygments_lexer": "ipython3",
   "version": "3.8.3"
  }
 },
 "nbformat": 4,
 "nbformat_minor": 2
}
