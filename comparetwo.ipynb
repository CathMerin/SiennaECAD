{
 "cells": [
  {
   "cell_type": "code",
   "execution_count": null,
   "metadata": {},
   "outputs": [],
   "source": [
    "import pandas as pd\n",
    "from csv import DictReader\n",
    "count=0\n",
    "count1=0\n",
    "pd.set_option('display.max_rows', None)\n",
    "f = open('match.txt', 'w')\n",
    "fileName1 = input(\"Enter the name of the first NetList file to check\\n\")\n",
    "fileName2 = input(\"Enter the name of the second NetList file to check\\n\")\n",
    "with open(fileName1, 'r') as read_obj:\n",
    "    csv_dict_reader = DictReader(read_obj)\n",
    "    next(csv_dict_reader)\n",
    "    for row in csv_dict_reader:\n",
    "        with open(fileName2, 'r') as read_obj1:\n",
    "            csv_dict_reader1 = DictReader(read_obj1)\n",
    "            next(csv_dict_reader1) \n",
    "            for row1 in csv_dict_reader1:\n",
    "                if row['column_two']==row1['column_two']:\n",
    "                    count+=1\n",
    "                    f.write(row['column_one']+','+row['column_two'])\n",
    "                    f.write(\"\\n\")\n",
    "pd.set_option('display.max_rows', None)                \n",
    "print('match',count)\n",
    "df1 = pd.read_csv(fileName1)\n",
    "df2 = pd.read_csv(fileName2)\n",
    "df1=df1.sort_values(by = ['column_one','column_two'], ascending = [1,1])\n",
    "df2=df2.sort_values(by = ['column_one','column_two'], ascending = [1,1])\n",
    "common = df1.merge(df2,on=['column_one','column_two'])\n",
    "common.to_csv('match.txt', index=False)\n",
    "df11=pd.concat([common,df1]).drop_duplicates(keep=False)\n",
    "print(df11)\n",
    "df11.to_csv('mismatch1.txt', index=False)\n",
    "df12=pd.concat([common,df2]).drop_duplicates(keep=False)\n",
    "print(df12)\n",
    "df12.to_csv('mismatch2.txt', index=False)\n",
    "df=pd.concat([df11,df12]).drop_duplicates(keep=False)\n",
    "df.to_csv('mismatch.txt', index=False)"
   ]
  },
  {
   "cell_type": "code",
   "execution_count": null,
   "metadata": {},
   "outputs": [],
   "source": [
    "import os\n",
    "os.getcwd()"
   ]
  },
  {
   "cell_type": "code",
   "execution_count": null,
   "metadata": {},
   "outputs": [],
   "source": []
  }
 ],
 "metadata": {
  "kernelspec": {
   "display_name": "Python 3",
   "language": "python",
   "name": "python3"
  },
  "language_info": {
   "codemirror_mode": {
    "name": "ipython",
    "version": 3
   },
   "file_extension": ".py",
   "mimetype": "text/x-python",
   "name": "python",
   "nbconvert_exporter": "python",
   "pygments_lexer": "ipython3",
   "version": "3.7.1"
  }
 },
 "nbformat": 4,
 "nbformat_minor": 2
}
